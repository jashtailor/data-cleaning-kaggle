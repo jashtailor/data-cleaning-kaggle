{
 "cells": [
  {
   "cell_type": "markdown",
   "id": "3133515f",
   "metadata": {
    "papermill": {
     "duration": 0.010326,
     "end_time": "2022-09-13T05:06:23.619566",
     "exception": false,
     "start_time": "2022-09-13T05:06:23.609240",
     "status": "completed"
    },
    "tags": []
   },
   "source": [
    "**This notebook is an exercise in the [Data Cleaning](https://www.kaggle.com/learn/data-cleaning) course.  You can reference the tutorial at [this link](https://www.kaggle.com/alexisbcook/character-encodings).**\n",
    "\n",
    "---\n"
   ]
  },
  {
   "cell_type": "markdown",
   "id": "86f6082d",
   "metadata": {
    "papermill": {
     "duration": 0.004347,
     "end_time": "2022-09-13T05:06:23.628961",
     "exception": false,
     "start_time": "2022-09-13T05:06:23.624614",
     "status": "completed"
    },
    "tags": []
   },
   "source": [
    "In this exercise, you'll apply what you learned in the **Character encodings** tutorial.\n",
    "\n",
    "# Setup\n",
    "\n",
    "The questions below will give you feedback on your work. Run the following cell to set up the feedback system."
   ]
  },
  {
   "cell_type": "code",
   "execution_count": 1,
   "id": "8673414e",
   "metadata": {
    "execution": {
     "iopub.execute_input": "2022-09-13T05:06:23.640420Z",
     "iopub.status.busy": "2022-09-13T05:06:23.639914Z",
     "iopub.status.idle": "2022-09-13T05:06:23.739597Z",
     "shell.execute_reply": "2022-09-13T05:06:23.738558Z"
    },
    "papermill": {
     "duration": 0.108927,
     "end_time": "2022-09-13T05:06:23.742362",
     "exception": false,
     "start_time": "2022-09-13T05:06:23.633435",
     "status": "completed"
    },
    "tags": []
   },
   "outputs": [
    {
     "name": "stdout",
     "output_type": "stream",
     "text": [
      "Setup Complete\n"
     ]
    }
   ],
   "source": [
    "from learntools.core import binder\n",
    "binder.bind(globals())\n",
    "from learntools.data_cleaning.ex4 import *\n",
    "print(\"Setup Complete\")"
   ]
  },
  {
   "cell_type": "markdown",
   "id": "627d4e46",
   "metadata": {
    "papermill": {
     "duration": 0.004679,
     "end_time": "2022-09-13T05:06:23.751800",
     "exception": false,
     "start_time": "2022-09-13T05:06:23.747121",
     "status": "completed"
    },
    "tags": []
   },
   "source": [
    "# Get our environment set up\n",
    "\n",
    "The first thing we'll need to do is load in the libraries we'll be using."
   ]
  },
  {
   "cell_type": "code",
   "execution_count": 2,
   "id": "428a0a3b",
   "metadata": {
    "execution": {
     "iopub.execute_input": "2022-09-13T05:06:23.763486Z",
     "iopub.status.busy": "2022-09-13T05:06:23.763038Z",
     "iopub.status.idle": "2022-09-13T05:06:23.768517Z",
     "shell.execute_reply": "2022-09-13T05:06:23.767235Z"
    },
    "papermill": {
     "duration": 0.014381,
     "end_time": "2022-09-13T05:06:23.770810",
     "exception": false,
     "start_time": "2022-09-13T05:06:23.756429",
     "status": "completed"
    },
    "tags": []
   },
   "outputs": [],
   "source": [
    "# modules we'll use\n",
    "import pandas as pd\n",
    "import numpy as np\n",
    "\n",
    "# helpful character encoding module\n",
    "import chardet\n",
    "\n",
    "# set seed for reproducibility\n",
    "np.random.seed(0)"
   ]
  },
  {
   "cell_type": "markdown",
   "id": "3db7cd11",
   "metadata": {
    "papermill": {
     "duration": 0.00474,
     "end_time": "2022-09-13T05:06:23.780736",
     "exception": false,
     "start_time": "2022-09-13T05:06:23.775996",
     "status": "completed"
    },
    "tags": []
   },
   "source": [
    "# 1) What are encodings?\n",
    "\n",
    "You're working with a dataset composed of bytes.  Run the code cell below to print a sample entry."
   ]
  },
  {
   "cell_type": "code",
   "execution_count": 3,
   "id": "7b12b31a",
   "metadata": {
    "execution": {
     "iopub.execute_input": "2022-09-13T05:06:23.792443Z",
     "iopub.status.busy": "2022-09-13T05:06:23.792018Z",
     "iopub.status.idle": "2022-09-13T05:06:23.797655Z",
     "shell.execute_reply": "2022-09-13T05:06:23.796819Z"
    },
    "papermill": {
     "duration": 0.014628,
     "end_time": "2022-09-13T05:06:23.800228",
     "exception": false,
     "start_time": "2022-09-13T05:06:23.785600",
     "status": "completed"
    },
    "tags": []
   },
   "outputs": [
    {
     "name": "stdout",
     "output_type": "stream",
     "text": [
      "b'\\xa7A\\xa6n'\n",
      "data type: <class 'bytes'>\n"
     ]
    }
   ],
   "source": [
    "sample_entry = b'\\xa7A\\xa6n'\n",
    "print(sample_entry)\n",
    "print('data type:', type(sample_entry))"
   ]
  },
  {
   "cell_type": "markdown",
   "id": "9d77e8ad",
   "metadata": {
    "papermill": {
     "duration": 0.004659,
     "end_time": "2022-09-13T05:06:23.809952",
     "exception": false,
     "start_time": "2022-09-13T05:06:23.805293",
     "status": "completed"
    },
    "tags": []
   },
   "source": [
    "You notice that it doesn't use the standard UTF-8 encoding. \n",
    "\n",
    "Use the next code cell to create a variable `new_entry` that changes the encoding from `\"big5-tw\"` to `\"utf-8\"`.  `new_entry` should have the bytes datatype."
   ]
  },
  {
   "cell_type": "code",
   "execution_count": 4,
   "id": "06b08aa7",
   "metadata": {
    "execution": {
     "iopub.execute_input": "2022-09-13T05:06:23.821974Z",
     "iopub.status.busy": "2022-09-13T05:06:23.821266Z",
     "iopub.status.idle": "2022-09-13T05:06:23.831212Z",
     "shell.execute_reply": "2022-09-13T05:06:23.830418Z"
    },
    "papermill": {
     "duration": 0.018892,
     "end_time": "2022-09-13T05:06:23.833604",
     "exception": false,
     "start_time": "2022-09-13T05:06:23.814712",
     "status": "completed"
    },
    "tags": []
   },
   "outputs": [
    {
     "data": {
      "application/javascript": [
       "parent.postMessage({\"jupyterEvent\": \"custom.exercise_interaction\", \"data\": {\"outcomeType\": 1, \"valueTowardsCompletion\": 0.3333333333333333, \"interactionType\": 1, \"questionType\": 1, \"questionId\": \"1_EncodingsIntro\", \"learnToolsVersion\": \"0.3.4\", \"failureMessage\": \"\", \"exceptionClass\": \"\", \"trace\": \"\"}}, \"*\")"
      ],
      "text/plain": [
       "<IPython.core.display.Javascript object>"
      ]
     },
     "metadata": {},
     "output_type": "display_data"
    },
    {
     "data": {
      "text/markdown": [
       "<span style=\"color:#33cc33\">Correct</span>"
      ],
      "text/plain": [
       "Correct"
      ]
     },
     "metadata": {},
     "output_type": "display_data"
    }
   ],
   "source": [
    "# bytes => utf-8 => bytes\n",
    "new_entry = sample_entry.decode(\"big5-tw\").encode()\n",
    "\n",
    "# Check your answer\n",
    "q1.check()"
   ]
  },
  {
   "cell_type": "code",
   "execution_count": 5,
   "id": "e2773f32",
   "metadata": {
    "execution": {
     "iopub.execute_input": "2022-09-13T05:06:23.846506Z",
     "iopub.status.busy": "2022-09-13T05:06:23.845808Z",
     "iopub.status.idle": "2022-09-13T05:06:23.857055Z",
     "shell.execute_reply": "2022-09-13T05:06:23.855651Z"
    },
    "papermill": {
     "duration": 0.02072,
     "end_time": "2022-09-13T05:06:23.859720",
     "exception": false,
     "start_time": "2022-09-13T05:06:23.839000",
     "status": "completed"
    },
    "tags": []
   },
   "outputs": [
    {
     "data": {
      "application/javascript": [
       "parent.postMessage({\"jupyterEvent\": \"custom.exercise_interaction\", \"data\": {\"interactionType\": 2, \"questionType\": 1, \"questionId\": \"1_EncodingsIntro\", \"learnToolsVersion\": \"0.3.4\", \"valueTowardsCompletion\": 0.0, \"failureMessage\": \"\", \"exceptionClass\": \"\", \"trace\": \"\", \"outcomeType\": 4}}, \"*\")"
      ],
      "text/plain": [
       "<IPython.core.display.Javascript object>"
      ]
     },
     "metadata": {},
     "output_type": "display_data"
    },
    {
     "data": {
      "text/markdown": [
       "<span style=\"color:#3366cc\">Hint:</span> Try using `.decode()` to get the string, then `.encode()` to get the bytes representation, encoded in UTF-8."
      ],
      "text/plain": [
       "Hint: Try using `.decode()` to get the string, then `.encode()` to get the bytes representation, encoded in UTF-8."
      ]
     },
     "metadata": {},
     "output_type": "display_data"
    },
    {
     "data": {
      "application/javascript": [
       "parent.postMessage({\"jupyterEvent\": \"custom.exercise_interaction\", \"data\": {\"interactionType\": 3, \"questionType\": 1, \"questionId\": \"1_EncodingsIntro\", \"learnToolsVersion\": \"0.3.4\", \"valueTowardsCompletion\": 0.0, \"failureMessage\": \"\", \"exceptionClass\": \"\", \"trace\": \"\", \"outcomeType\": 4}}, \"*\")"
      ],
      "text/plain": [
       "<IPython.core.display.Javascript object>"
      ]
     },
     "metadata": {},
     "output_type": "display_data"
    },
    {
     "data": {
      "text/markdown": [
       "<span style=\"color:#33cc99\">Solution:</span> \n",
       "```python\n",
       "before = sample_entry.decode(\"big5-tw\")\n",
       "new_entry = before.encode()\n",
       "\n",
       "```"
      ],
      "text/plain": [
       "Solution: \n",
       "```python\n",
       "before = sample_entry.decode(\"big5-tw\")\n",
       "new_entry = before.encode()\n",
       "\n",
       "```"
      ]
     },
     "metadata": {},
     "output_type": "display_data"
    }
   ],
   "source": [
    "# Lines below will give you a hint or solution code\n",
    "q1.hint()\n",
    "q1.solution()"
   ]
  },
  {
   "cell_type": "markdown",
   "id": "ceb926e3",
   "metadata": {
    "papermill": {
     "duration": 0.005257,
     "end_time": "2022-09-13T05:06:23.870874",
     "exception": false,
     "start_time": "2022-09-13T05:06:23.865617",
     "status": "completed"
    },
    "tags": []
   },
   "source": [
    "# 2) Reading in files with encoding problems\n",
    "\n",
    "Use the code cell below to read in this file at path `\"../input/fatal-police-shootings-in-the-us/PoliceKillingsUS.csv\"`.  \n",
    "\n",
    "Figure out what the correct encoding should be and read in the file to a DataFrame `police_killings`."
   ]
  },
  {
   "cell_type": "code",
   "execution_count": 6,
   "id": "981cb4a7",
   "metadata": {
    "execution": {
     "iopub.execute_input": "2022-09-13T05:06:23.884798Z",
     "iopub.status.busy": "2022-09-13T05:06:23.884391Z",
     "iopub.status.idle": "2022-09-13T05:06:25.492147Z",
     "shell.execute_reply": "2022-09-13T05:06:25.490102Z"
    },
    "papermill": {
     "duration": 1.618855,
     "end_time": "2022-09-13T05:06:25.495569",
     "exception": false,
     "start_time": "2022-09-13T05:06:23.876714",
     "status": "completed"
    },
    "tags": []
   },
   "outputs": [
    {
     "name": "stdout",
     "output_type": "stream",
     "text": [
      "{'encoding': 'Windows-1252', 'confidence': 0.73, 'language': ''}\n"
     ]
    },
    {
     "data": {
      "application/javascript": [
       "parent.postMessage({\"jupyterEvent\": \"custom.exercise_interaction\", \"data\": {\"outcomeType\": 1, \"valueTowardsCompletion\": 0.3333333333333333, \"interactionType\": 1, \"questionType\": 1, \"questionId\": \"2_ReadIn\", \"learnToolsVersion\": \"0.3.4\", \"failureMessage\": \"\", \"exceptionClass\": \"\", \"trace\": \"\"}}, \"*\")"
      ],
      "text/plain": [
       "<IPython.core.display.Javascript object>"
      ]
     },
     "metadata": {},
     "output_type": "display_data"
    },
    {
     "data": {
      "text/markdown": [
       "<span style=\"color:#33cc33\">Correct</span>"
      ],
      "text/plain": [
       "Correct"
      ]
     },
     "metadata": {},
     "output_type": "display_data"
    }
   ],
   "source": [
    "# TODO: Load in the DataFrame correctly.\n",
    "with open(\"../input/fatal-police-shootings-in-the-us/PoliceKillingsUS.csv\", \"rb\") as rawdata:\n",
    "    results = chardet.detect(rawdata.read(100000))\n",
    "print(results)\n",
    "police_killings = pd.read_csv(\"../input/fatal-police-shootings-in-the-us/PoliceKillingsUS.csv\", encoding=results['encoding'])\n",
    "\n",
    "# Check your answer\n",
    "q2.check()"
   ]
  },
  {
   "cell_type": "markdown",
   "id": "e6d56ec0",
   "metadata": {
    "papermill": {
     "duration": 0.005485,
     "end_time": "2022-09-13T05:06:25.507141",
     "exception": false,
     "start_time": "2022-09-13T05:06:25.501656",
     "status": "completed"
    },
    "tags": []
   },
   "source": [
    "Feel free to use any additional code cells for supplemental work.  To get credit for finishing this question, you'll need to run `q2.check()` and get a result of **Correct**."
   ]
  },
  {
   "cell_type": "code",
   "execution_count": 7,
   "id": "f5e47528",
   "metadata": {
    "execution": {
     "iopub.execute_input": "2022-09-13T05:06:25.520512Z",
     "iopub.status.busy": "2022-09-13T05:06:25.520045Z",
     "iopub.status.idle": "2022-09-13T05:06:25.525350Z",
     "shell.execute_reply": "2022-09-13T05:06:25.524405Z"
    },
    "papermill": {
     "duration": 0.01475,
     "end_time": "2022-09-13T05:06:25.527573",
     "exception": false,
     "start_time": "2022-09-13T05:06:25.512823",
     "status": "completed"
    },
    "tags": []
   },
   "outputs": [],
   "source": [
    "# (Optional) Use this code cell for any additional work."
   ]
  },
  {
   "cell_type": "code",
   "execution_count": 8,
   "id": "1844b811",
   "metadata": {
    "execution": {
     "iopub.execute_input": "2022-09-13T05:06:25.542130Z",
     "iopub.status.busy": "2022-09-13T05:06:25.541725Z",
     "iopub.status.idle": "2022-09-13T05:06:25.552447Z",
     "shell.execute_reply": "2022-09-13T05:06:25.551476Z"
    },
    "papermill": {
     "duration": 0.020417,
     "end_time": "2022-09-13T05:06:25.554549",
     "exception": false,
     "start_time": "2022-09-13T05:06:25.534132",
     "status": "completed"
    },
    "tags": []
   },
   "outputs": [
    {
     "data": {
      "application/javascript": [
       "parent.postMessage({\"jupyterEvent\": \"custom.exercise_interaction\", \"data\": {\"interactionType\": 2, \"questionType\": 1, \"questionId\": \"2_ReadIn\", \"learnToolsVersion\": \"0.3.4\", \"valueTowardsCompletion\": 0.0, \"failureMessage\": \"\", \"exceptionClass\": \"\", \"trace\": \"\", \"outcomeType\": 4}}, \"*\")"
      ],
      "text/plain": [
       "<IPython.core.display.Javascript object>"
      ]
     },
     "metadata": {},
     "output_type": "display_data"
    },
    {
     "data": {
      "text/markdown": [
       "<span style=\"color:#3366cc\">Hint:</span> If you try to guess the encoding with the first 10,000 bytes of the file, it might give you the wrong answer.  Try using 100,000 or more lines of the file."
      ],
      "text/plain": [
       "Hint: If you try to guess the encoding with the first 10,000 bytes of the file, it might give you the wrong answer.  Try using 100,000 or more lines of the file."
      ]
     },
     "metadata": {},
     "output_type": "display_data"
    },
    {
     "data": {
      "application/javascript": [
       "parent.postMessage({\"jupyterEvent\": \"custom.exercise_interaction\", \"data\": {\"interactionType\": 3, \"questionType\": 1, \"questionId\": \"2_ReadIn\", \"learnToolsVersion\": \"0.3.4\", \"valueTowardsCompletion\": 0.0, \"failureMessage\": \"\", \"exceptionClass\": \"\", \"trace\": \"\", \"outcomeType\": 4}}, \"*\")"
      ],
      "text/plain": [
       "<IPython.core.display.Javascript object>"
      ]
     },
     "metadata": {},
     "output_type": "display_data"
    },
    {
     "data": {
      "text/markdown": [
       "<span style=\"color:#33cc99\">Solution:</span> \n",
       "```python\n",
       "police_killings = pd.read_csv(\"../input/fatal-police-shootings-in-the-us/PoliceKillingsUS.csv\", encoding='Windows-1252')\n",
       "\n",
       "```"
      ],
      "text/plain": [
       "Solution: \n",
       "```python\n",
       "police_killings = pd.read_csv(\"../input/fatal-police-shootings-in-the-us/PoliceKillingsUS.csv\", encoding='Windows-1252')\n",
       "\n",
       "```"
      ]
     },
     "metadata": {},
     "output_type": "display_data"
    }
   ],
   "source": [
    "# Lines below will give you a hint or solution code\n",
    "q2.hint()\n",
    "q2.solution()"
   ]
  },
  {
   "cell_type": "markdown",
   "id": "b4888e89",
   "metadata": {
    "papermill": {
     "duration": 0.006174,
     "end_time": "2022-09-13T05:06:25.567140",
     "exception": false,
     "start_time": "2022-09-13T05:06:25.560966",
     "status": "completed"
    },
    "tags": []
   },
   "source": [
    "# 3) Saving your files with UTF-8 encoding\n",
    "\n",
    "Save a version of the police killings dataset to CSV with UTF-8 encoding.  Your answer will be marked correct after saving this file.  \n",
    "\n",
    "Note: When using the `to_csv()` method, supply only the name of the file (e.g., `\"my_file.csv\"`).  This saves the file at the filepath `\"/kaggle/working/my_file.csv\"`."
   ]
  },
  {
   "cell_type": "code",
   "execution_count": 9,
   "id": "5cfa4f1c",
   "metadata": {
    "execution": {
     "iopub.execute_input": "2022-09-13T05:06:25.583069Z",
     "iopub.status.busy": "2022-09-13T05:06:25.582308Z",
     "iopub.status.idle": "2022-09-13T05:06:25.615425Z",
     "shell.execute_reply": "2022-09-13T05:06:25.614426Z"
    },
    "papermill": {
     "duration": 0.044,
     "end_time": "2022-09-13T05:06:25.617531",
     "exception": false,
     "start_time": "2022-09-13T05:06:25.573531",
     "status": "completed"
    },
    "tags": []
   },
   "outputs": [
    {
     "data": {
      "application/javascript": [
       "parent.postMessage({\"jupyterEvent\": \"custom.exercise_interaction\", \"data\": {\"outcomeType\": 1, \"valueTowardsCompletion\": 0.3333333333333333, \"interactionType\": 1, \"questionType\": 2, \"questionId\": \"3_SaveCSV\", \"learnToolsVersion\": \"0.3.4\", \"failureMessage\": \"\", \"exceptionClass\": \"\", \"trace\": \"\"}}, \"*\")"
      ],
      "text/plain": [
       "<IPython.core.display.Javascript object>"
      ]
     },
     "metadata": {},
     "output_type": "display_data"
    },
    {
     "data": {
      "text/markdown": [
       "<span style=\"color:#33cc33\">Correct</span>"
      ],
      "text/plain": [
       "Correct"
      ]
     },
     "metadata": {},
     "output_type": "display_data"
    }
   ],
   "source": [
    "# TODO: Save the police killings dataset to CSV\n",
    "police_killings.to_csv('my_file.csv')\n",
    "\n",
    "# Check your answer\n",
    "q3.check()"
   ]
  },
  {
   "cell_type": "code",
   "execution_count": 10,
   "id": "b67ba82a",
   "metadata": {
    "execution": {
     "iopub.execute_input": "2022-09-13T05:06:25.634243Z",
     "iopub.status.busy": "2022-09-13T05:06:25.632563Z",
     "iopub.status.idle": "2022-09-13T05:06:25.645143Z",
     "shell.execute_reply": "2022-09-13T05:06:25.644008Z"
    },
    "papermill": {
     "duration": 0.023003,
     "end_time": "2022-09-13T05:06:25.647555",
     "exception": false,
     "start_time": "2022-09-13T05:06:25.624552",
     "status": "completed"
    },
    "tags": []
   },
   "outputs": [
    {
     "data": {
      "application/javascript": [
       "parent.postMessage({\"jupyterEvent\": \"custom.exercise_interaction\", \"data\": {\"interactionType\": 2, \"questionType\": 2, \"questionId\": \"3_SaveCSV\", \"learnToolsVersion\": \"0.3.4\", \"valueTowardsCompletion\": 0.0, \"failureMessage\": \"\", \"exceptionClass\": \"\", \"trace\": \"\", \"outcomeType\": 4}}, \"*\")"
      ],
      "text/plain": [
       "<IPython.core.display.Javascript object>"
      ]
     },
     "metadata": {},
     "output_type": "display_data"
    },
    {
     "data": {
      "text/markdown": [
       "<span style=\"color:#3366cc\">Hint:</span> Use `.to_csv().`"
      ],
      "text/plain": [
       "Hint: Use `.to_csv().`"
      ]
     },
     "metadata": {},
     "output_type": "display_data"
    },
    {
     "data": {
      "application/javascript": [
       "parent.postMessage({\"jupyterEvent\": \"custom.exercise_interaction\", \"data\": {\"interactionType\": 3, \"questionType\": 2, \"questionId\": \"3_SaveCSV\", \"learnToolsVersion\": \"0.3.4\", \"valueTowardsCompletion\": 0.0, \"failureMessage\": \"\", \"exceptionClass\": \"\", \"trace\": \"\", \"outcomeType\": 4}}, \"*\")"
      ],
      "text/plain": [
       "<IPython.core.display.Javascript object>"
      ]
     },
     "metadata": {},
     "output_type": "display_data"
    },
    {
     "data": {
      "text/markdown": [
       "<span style=\"color:#33cc99\">Solution:</span> \n",
       "```python\n",
       "\n",
       "police_killings.to_csv(\"my_file.csv\")\n",
       "\n",
       "```"
      ],
      "text/plain": [
       "Solution: \n",
       "```python\n",
       "\n",
       "police_killings.to_csv(\"my_file.csv\")\n",
       "\n",
       "```"
      ]
     },
     "metadata": {},
     "output_type": "display_data"
    }
   ],
   "source": [
    "# Lines below will give you a hint or solution code\n",
    "q3.hint()\n",
    "q3.solution()"
   ]
  },
  {
   "cell_type": "markdown",
   "id": "b51d2476",
   "metadata": {
    "papermill": {
     "duration": 0.006729,
     "end_time": "2022-09-13T05:06:25.661434",
     "exception": false,
     "start_time": "2022-09-13T05:06:25.654705",
     "status": "completed"
    },
    "tags": []
   },
   "source": [
    "# (Optional) More practice\n",
    "\n",
    "Check out [this dataset of files in different character encodings](https://www.kaggle.com/rtatman/character-encoding-examples). Can you read in all the files with their original encodings and them save them out as UTF-8 files?\n",
    "\n",
    "If you have a file that's in UTF-8 but has just a couple of weird-looking characters in it, you can try out the [ftfy module](https://ftfy.readthedocs.io/en/latest/#) and see if it helps. \n",
    "\n",
    "# Keep going\n",
    "\n",
    "In the final lesson, learn how to [**clean up inconsistent text entries**](https://www.kaggle.com/alexisbcook/inconsistent-data-entry) in your dataset."
   ]
  },
  {
   "cell_type": "markdown",
   "id": "fdee6e07",
   "metadata": {
    "papermill": {
     "duration": 0.006645,
     "end_time": "2022-09-13T05:06:25.674930",
     "exception": false,
     "start_time": "2022-09-13T05:06:25.668285",
     "status": "completed"
    },
    "tags": []
   },
   "source": [
    "---\n",
    "\n",
    "\n",
    "\n",
    "\n",
    "*Have questions or comments? Visit the [course discussion forum](https://www.kaggle.com/learn/data-cleaning/discussion) to chat with other learners.*"
   ]
  }
 ],
 "metadata": {
  "kernelspec": {
   "display_name": "Python 3",
   "language": "python",
   "name": "python3"
  },
  "language_info": {
   "codemirror_mode": {
    "name": "ipython",
    "version": 3
   },
   "file_extension": ".py",
   "mimetype": "text/x-python",
   "name": "python",
   "nbconvert_exporter": "python",
   "pygments_lexer": "ipython3",
   "version": "3.7.12"
  },
  "papermill": {
   "default_parameters": {},
   "duration": 12.023444,
   "end_time": "2022-09-13T05:06:26.406700",
   "environment_variables": {},
   "exception": null,
   "input_path": "__notebook__.ipynb",
   "output_path": "__notebook__.ipynb",
   "parameters": {},
   "start_time": "2022-09-13T05:06:14.383256",
   "version": "2.3.4"
  }
 },
 "nbformat": 4,
 "nbformat_minor": 5
}
